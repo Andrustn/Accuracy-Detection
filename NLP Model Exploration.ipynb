{
 "cells": [
  {
   "cell_type": "markdown",
   "id": "dbc38cc3-01d6-40ff-8c93-e028023cbb81",
   "metadata": {},
   "source": [
    "### Import packages, instantiate models"
   ]
  },
  {
   "cell_type": "code",
   "execution_count": 15,
   "id": "1ccbe513-e7b2-4b01-a13c-d52a2b92cd32",
   "metadata": {},
   "outputs": [],
   "source": [
    "import wikipedia as wp\n",
    "from SPARQLWrapper import SPARQLWrapper, JSON\n",
    "from transformers import pipeline, set_seed"
   ]
  },
  {
   "cell_type": "code",
   "execution_count": 16,
   "id": "6cf73a81-79d9-407e-9348-25d6dee0791d",
   "metadata": {},
   "outputs": [
    {
     "name": "stderr",
     "output_type": "stream",
     "text": [
      "No model was supplied, defaulted to distilbert-base-cased-distilled-squad (https://huggingface.co/distilbert-base-cased-distilled-squad)\n"
     ]
    }
   ],
   "source": [
    "# isntantiate a question answer model\n",
    "QA = pipeline('question-answering')"
   ]
  },
  {
   "cell_type": "code",
   "execution_count": 17,
   "id": "f467fb25-2672-4836-a2a6-69e9b8c1e5ce",
   "metadata": {},
   "outputs": [
    {
     "name": "stderr",
     "output_type": "stream",
     "text": [
      "No model was supplied, defaulted to sshleifer/distilbart-cnn-12-6 (https://huggingface.co/sshleifer/distilbart-cnn-12-6)\n"
     ]
    }
   ],
   "source": [
    "# instaniate a summarization model\n",
    "summarizer = pipeline(\"summarization\")"
   ]
  },
  {
   "cell_type": "code",
   "execution_count": 18,
   "id": "6858a10a-9e23-4d88-a21a-453ed4e1c661",
   "metadata": {},
   "outputs": [],
   "source": [
    "# define a function to run SPARQL queries against DBPedia\n",
    "def run_query(query):\n",
    "    sparql = SPARQLWrapper(\"http://dbpedia.org/sparql\")\n",
    "    sparql.setReturnFormat(JSON)\n",
    "\n",
    "    sparql.setQuery(query)  # the previous query as a literal string\n",
    "\n",
    "    return sparql.query().convert()"
   ]
  },
  {
   "cell_type": "markdown",
   "id": "9e7996b5-c0eb-431c-afac-8ad43045fea0",
   "metadata": {},
   "source": [
    "### Clean entities, pull abstract from DBpedia"
   ]
  },
  {
   "cell_type": "code",
   "execution_count": 19,
   "id": "bb5e4469-157e-461f-91f0-cf5ddadec64b",
   "metadata": {},
   "outputs": [],
   "source": [
    "# Assume we have extracted these from an input text\n",
    "entity = \"George W. Bush\"\n",
    "property = 'Was'\n",
    "value = 'The president'"
   ]
  },
  {
   "cell_type": "code",
   "execution_count": 20,
   "id": "eda3a698-1188-4bbb-98f6-20a4a9587740",
   "metadata": {},
   "outputs": [
    {
     "data": {
      "text/plain": [
       "'George_W._Bush'"
      ]
     },
     "execution_count": 20,
     "metadata": {},
     "output_type": "execute_result"
    }
   ],
   "source": [
    "# Query the DBPEdia page for George Bush\n",
    "query = entity\n",
    "result = wp.search(query, results = 1)[0]\n",
    "wiki_title = result.replace(' ', '_')\n",
    "wiki_title"
   ]
  },
  {
   "cell_type": "code",
   "execution_count": 21,
   "id": "c9a821b1-b623-49aa-8e0c-15d395cf4adf",
   "metadata": {},
   "outputs": [],
   "source": [
    "# we want the abstract\n",
    "prop = 'abstract'"
   ]
  },
  {
   "cell_type": "code",
   "execution_count": 22,
   "id": "752ee2d0-8747-4d3f-a064-547e1af9b56f",
   "metadata": {},
   "outputs": [],
   "source": [
    "# define sparql query to extract abstract from DBPedia\n",
    "query = (\n",
    "'PREFIX dbpedia: <http://dbpedia.org/resource/> \\n'\n",
    "\n",
    "'SELECT ?abstract \\n'\n",
    "'WHERE { \\n'\n",
    "  f'dbpedia:{wiki_title} dbo:{prop} ?abstract \\n'\n",
    "  \"FILTER ( LANG ( ?abstract ) = 'en' )\"\n",
    "'}'\n",
    ")"
   ]
  },
  {
   "cell_type": "code",
   "execution_count": 23,
   "id": "e88453d8-122b-4b34-ac14-6dce79ba5a1d",
   "metadata": {},
   "outputs": [
    {
     "data": {
      "text/plain": [
       "'George Walker Bush (born July 6, 1946) is an American politician who served as the 43rd president of'"
      ]
     },
     "execution_count": 23,
     "metadata": {},
     "output_type": "execute_result"
    }
   ],
   "source": [
    "# Query abstract and print first characters\n",
    "result_dict = dict(run_query(query))\n",
    "abstract = result_dict['results']['bindings'][0]['abstract']['value']\n",
    "abstract[:100]"
   ]
  },
  {
   "cell_type": "markdown",
   "id": "e4b8acab-bb54-4f64-92e9-783ba5bc4b51",
   "metadata": {},
   "source": [
    "### Testing with full abstract"
   ]
  },
  {
   "cell_type": "code",
   "execution_count": 24,
   "id": "2e8d0e4a-f361-4b37-96a4-02c9fe1e081c",
   "metadata": {},
   "outputs": [
    {
     "data": {
      "text/plain": [
       "'United States'"
      ]
     },
     "execution_count": 24,
     "metadata": {},
     "output_type": "execute_result"
    }
   ],
   "source": [
    "QA(question='What was george bush the president of?',\n",
    "         context = abstract)['answer']"
   ]
  },
  {
   "cell_type": "code",
   "execution_count": 25,
   "id": "cb1c6369-c91c-4c8e-98c2-611aaa613857",
   "metadata": {},
   "outputs": [
    {
     "data": {
      "text/plain": [
       "'2001 to 2009'"
      ]
     },
     "execution_count": 25,
     "metadata": {},
     "output_type": "execute_result"
    }
   ],
   "source": [
    "QA(question='When was george bush the president of the united states?',\n",
    "         context = abstract)['answer']"
   ]
  },
  {
   "cell_type": "code",
   "execution_count": 26,
   "id": "fe213957-8503-4e4b-b1ad-41d0539730af",
   "metadata": {},
   "outputs": [
    {
     "data": {
      "text/plain": [
       "'43rd'"
      ]
     },
     "execution_count": 26,
     "metadata": {},
     "output_type": "execute_result"
    }
   ],
   "source": [
    "QA(question='Was George bush the president of the united states in 2008?',\n",
    "         context = abstract)['answer']"
   ]
  },
  {
   "cell_type": "code",
   "execution_count": 27,
   "id": "86c30477-75fe-45b4-a47d-8b891a98ed9d",
   "metadata": {},
   "outputs": [
    {
     "data": {
      "text/plain": [
       "'41st president'"
      ]
     },
     "execution_count": 27,
     "metadata": {},
     "output_type": "execute_result"
    }
   ],
   "source": [
    "QA(question=\"Who was george w. bush?\",\n",
    "         context = abstract)['answer']"
   ]
  },
  {
   "cell_type": "markdown",
   "id": "75e49201-f254-4394-b3e9-f7ad1fd208e2",
   "metadata": {},
   "source": [
    "### Testing with summarized abstract"
   ]
  },
  {
   "cell_type": "code",
   "execution_count": 28,
   "id": "40f724b3-9d67-4054-a041-96236c9e26a4",
   "metadata": {},
   "outputs": [
    {
     "data": {
      "text/plain": [
       "' George Walker Bush served as 43rd president of the United States from 2001 to 2009 . He was elected governor of Texas in 1994 and re-elected president in 2004 . Bush is the son of 41st president George H. W. Bush . He is a member of the Republican Party, Bush family .'"
      ]
     },
     "execution_count": 28,
     "metadata": {},
     "output_type": "execute_result"
    }
   ],
   "source": [
    "# summarize the abstract using summarization model, then run question and answer\n",
    "summary = summarizer(abstract)[0]['summary_text']\n",
    "summary"
   ]
  },
  {
   "cell_type": "code",
   "execution_count": 29,
   "id": "12e9ba4f-0871-4730-bfea-3047ce88fca6",
   "metadata": {},
   "outputs": [
    {
     "data": {
      "text/plain": [
       "'United States'"
      ]
     },
     "execution_count": 29,
     "metadata": {},
     "output_type": "execute_result"
    }
   ],
   "source": [
    "QA(question='What was george bush the president of?',\n",
    "         context = summary)['answer']"
   ]
  },
  {
   "cell_type": "code",
   "execution_count": 30,
   "id": "7cf391fe-2f37-4d6a-af8a-a4687e2c9c3e",
   "metadata": {},
   "outputs": [
    {
     "data": {
      "text/plain": [
       "'2001'"
      ]
     },
     "execution_count": 30,
     "metadata": {},
     "output_type": "execute_result"
    }
   ],
   "source": [
    "QA(question='When was george bush the president of the united states?',\n",
    "         context = summary)['answer']"
   ]
  },
  {
   "cell_type": "code",
   "execution_count": 32,
   "id": "798cc925-d0d1-4700-b9e8-2456f065d76b",
   "metadata": {},
   "outputs": [
    {
     "data": {
      "text/plain": [
       "'43rd'"
      ]
     },
     "execution_count": 32,
     "metadata": {},
     "output_type": "execute_result"
    }
   ],
   "source": [
    "QA(question='Was George bush the president of the united statesin 2008?',\n",
    "         context = summary)['answer']"
   ]
  },
  {
   "cell_type": "code",
   "execution_count": 33,
   "id": "80bf7fd4-fef0-44db-a5d9-efbfb1806afa",
   "metadata": {},
   "outputs": [
    {
     "data": {
      "text/plain": [
       "'41st president'"
      ]
     },
     "execution_count": 33,
     "metadata": {},
     "output_type": "execute_result"
    }
   ],
   "source": [
    "QA(question=\"Who was george w. bush?\",\n",
    "         context = summary)['answer']"
   ]
  },
  {
   "cell_type": "code",
   "execution_count": 34,
   "id": "f2e4f0d4-8427-4196-8aea-afd419636a58",
   "metadata": {},
   "outputs": [
    {
     "name": "stderr",
     "output_type": "stream",
     "text": [
      "No model was supplied, defaulted to gpt2 (https://huggingface.co/gpt2)\n"
     ]
    }
   ],
   "source": [
    "# expirimenting with GPT2\n",
    "generator = pipeline('text-generation')\n",
    "set_seed(42)"
   ]
  },
  {
   "cell_type": "code",
   "execution_count": 36,
   "id": "7c6156ff-445e-494c-a0f3-d7b0786e197b",
   "metadata": {},
   "outputs": [
    {
     "name": "stderr",
     "output_type": "stream",
     "text": [
      "Setting `pad_token_id` to `eos_token_id`:50256 for open-end generation.\n"
     ]
    },
    {
     "data": {
      "text/plain": [
       "[{'generated_text': 'Was george bush the president of the united states in 2008? A decade ago, this was a question that you\\'d have to have had to ask yourself, \"Does it sound kind of boring? You\\'re always being asked questions like, \\'what is going on in Iraq?\\' It would be hard to write something short about it if that was your primary focus, but obviously Obama was very close to the president who was in office.\"\\n\\nIs it possible that this is a rhetorical argument to win'}]"
      ]
     },
     "execution_count": 36,
     "metadata": {},
     "output_type": "execute_result"
    }
   ],
   "source": [
    "generator(\"Was george bush the president of the united states in 2008?\", max_length=100)"
   ]
  },
  {
   "cell_type": "markdown",
   "id": "0d24ea39-9e69-4e18-946c-bb7756737d87",
   "metadata": {},
   "source": [
    "ChatGPT:  \n",
    "    No, George Bush was not the president in 2008. According to the text you provided, George Walker Bush served as the 43rd president of the United States from 2001 to 2009. So, his term as president ended in 2009, and he was succeeded by President Barack Obama, who took office on January 20, 2009. Therefore, George Bush was not the president in 2008; he was the president from 2001 to 2009."
   ]
  },
  {
   "cell_type": "markdown",
   "id": "4473ee25-b9b4-48fa-912a-0bbf11c766d8",
   "metadata": {},
   "source": [
    "Chat gpt can do yes or no questions, but does not understand periods of time - can correclty identify george bush as president, but even with sample text can not tell that 2008 is in between 2002 and 2009.m"
   ]
  },
  {
   "cell_type": "markdown",
   "id": "d2a9daf0-9bc2-4929-854a-42d39ed953ff",
   "metadata": {},
   "source": [
    "Distilbert can not do yes or no questions"
   ]
  }
 ],
 "metadata": {
  "kernelspec": {
   "display_name": "Python 3 (ipykernel)",
   "language": "python",
   "name": "python3"
  },
  "language_info": {
   "codemirror_mode": {
    "name": "ipython",
    "version": 3
   },
   "file_extension": ".py",
   "mimetype": "text/x-python",
   "name": "python",
   "nbconvert_exporter": "python",
   "pygments_lexer": "ipython3",
   "version": "3.8.8"
  }
 },
 "nbformat": 4,
 "nbformat_minor": 5
}
