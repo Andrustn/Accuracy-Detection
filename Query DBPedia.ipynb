{
 "cells": [
  {
   "cell_type": "code",
   "execution_count": 12,
   "id": "333e928a-2762-44f9-ac3c-3857115ad979",
   "metadata": {},
   "outputs": [],
   "source": [
    "# import packages\n",
    "import wikipedia as wp\n",
    "from SPARQLWrapper import SPARQLWrapper, JSON"
   ]
  },
  {
   "cell_type": "code",
   "execution_count": 13,
   "id": "2ba413c5-a0de-46db-a98b-69e99bf33f36",
   "metadata": {},
   "outputs": [],
   "source": [
    "# define a function to run SPARQL queries on DBPEdia\n",
    "def run_query(query):\n",
    "    sparql = SPARQLWrapper(\"http://dbpedia.org/sparql\")\n",
    "    sparql.setReturnFormat(JSON)\n",
    "\n",
    "    sparql.setQuery(query)  # the previous query as a literal string\n",
    "\n",
    "    return sparql.query().convert()"
   ]
  },
  {
   "cell_type": "code",
   "execution_count": 4,
   "id": "a368ba69-fb8c-444f-b037-e2f41468eee4",
   "metadata": {},
   "outputs": [],
   "source": [
    "# assume we have separated these entities from an input text\n",
    "entity = \"George Bush\"\n",
    "property = 'Was'\n",
    "value = 'The president'"
   ]
  },
  {
   "cell_type": "code",
   "execution_count": 5,
   "id": "8d647490-beae-40a2-b658-074c0a6a9f58",
   "metadata": {},
   "outputs": [
    {
     "data": {
      "text/plain": [
       "'George W. Bush'"
      ]
     },
     "execution_count": 5,
     "metadata": {},
     "output_type": "execute_result"
    }
   ],
   "source": [
    "# search wikipedia for the entity, and return the first result\n",
    "query = entity\n",
    "result = wp.search(query, results = 1)[0]\n",
    "result"
   ]
  },
  {
   "cell_type": "code",
   "execution_count": 6,
   "id": "9628a7fc-072d-4dc8-a9b5-eef3a0b038cb",
   "metadata": {},
   "outputs": [
    {
     "data": {
      "text/plain": [
       "'George_W._Bush'"
      ]
     },
     "execution_count": 6,
     "metadata": {},
     "output_type": "execute_result"
    }
   ],
   "source": [
    "# remove spaces and replace with underscores to match format of DBPedia\n",
    "wiki_title = result.replace(' ', '_')\n",
    "wiki_title"
   ]
  },
  {
   "cell_type": "code",
   "execution_count": 7,
   "id": "fcd0ae89-8f27-454b-93a9-96a9370f1fae",
   "metadata": {},
   "outputs": [],
   "source": [
    "# query format to extract all properties from DBPedia site\n",
    "query = (\n",
    "\n",
    "'select distinct ?property ?label {\\n'\n",
    "  '{ 'f'dbr:{wiki_title} ?property ?o' '}\\n'\n",
    "  'union\\n'\n",
    "  '{ 'f'?s ?property dbr:{wiki_title}' '}\\n'\n",
    "\n",
    "  'optional { \\n'\n",
    "    '?property rdfs:label ?label .\\n'\n",
    "    \"filter langMatches(lang(?label), 'en')\\n\"\n",
    "  '}\\n'\n",
    "'}\\n'\n",
    ")"
   ]
  },
  {
   "cell_type": "code",
   "execution_count": 9,
   "id": "280c188b-c907-42d9-91c4-098fcc6e9c7e",
   "metadata": {},
   "outputs": [
    {
     "name": "stdout",
     "output_type": "stream",
     "text": [
      "\n"
     ]
    }
   ],
   "source": [
    "# extract the names of all available properties from wikipedia page\n",
    "properties = list(run_query(query)['results']['bindings'])\n",
    "\n",
    "property_names = []\n",
    "for i in range(len(properties)):\n",
    "    try:\n",
    "        property_names.append(properties[i]['property']['value'].split('/')[4])\n",
    "    except:\n",
    "        print()"
   ]
  },
  {
   "cell_type": "code",
   "execution_count": null,
   "id": "c891ee50-0dfd-4f7f-860a-9acde66e6364",
   "metadata": {},
   "outputs": [],
   "source": [
    "# Extract all values for each named property that we previously queried\n",
    "\n",
    "property_values = []\n",
    "for prop in property_names:\n",
    "    query = (\n",
    "    'PREFIX dbpedia: <http://dbpedia.org/resource/> \\n'\n",
    "\n",
    "    'SELECT ?title \\n'\n",
    "    'WHERE { \\n'\n",
    "      f'dbpedia:{wiki_title} dbp:{prop} ?title \\n'\n",
    "    '}'\n",
    "    )\n",
    "    \n",
    "    \n",
    "    try:\n",
    "        result_dict = dict(run_query(query))\n",
    "        property_values.append(result_dict['results']['bindings'][0]['title']['value'])\n",
    "    except:\n",
    "        continue"
   ]
  },
  {
   "cell_type": "code",
   "execution_count": 11,
   "id": "c8d95137-91e0-4587-a4df-9e7b1733a277",
   "metadata": {},
   "outputs": [
    {
     "data": {
      "text/plain": [
       "['George W. Bush',\n",
       " 'New Haven, Connecticut, U.S.',\n",
       " 'New Haven, Connecticut, U.S.',\n",
       " '1946-07-06',\n",
       " '1968',\n",
       " 'Cursive signature in ink',\n",
       " 'http://dbpedia.org/resource/Dick_Cheney',\n",
       " 'GeorgeWBush Signature.svg',\n",
       " 'Harvard University',\n",
       " \"George W. Bush's official portrait, 2003\",\n",
       " 'http://dbpedia.org/resource/List_of_honors_and_awards_received_by_George_W._Bush',\n",
       " 'no',\n",
       " '1946-07-06',\n",
       " 'George Walker Bush',\n",
       " '',\n",
       " 'Official portrait, 2003',\n",
       " 'http://dbpedia.org/resource/Barbara_Bush_(born_1981)',\n",
       " 'February 2021',\n",
       " 'vertical',\n",
       " 'Bush Addresses Congress 9-20-01.ogg',\n",
       " 'Supreme Court Justice nominees John Roberts and Samuel Alito, 2005',\n",
       " 'Roberts, Bush SCOTUS announcement.jpg',\n",
       " '',\n",
       " 'President of the United States',\n",
       " '46',\n",
       " 'George H. W. Bush',\n",
       " 'http://dbpedia.org/resource/Republican_Party_(United_States)',\n",
       " 'http://dbpedia.org/resource/Bill_Clinton',\n",
       " 'http://dbpedia.org/resource/First_Lieutenant_(United_States)',\n",
       " 'primary source for one minor view',\n",
       " 'http://dbpedia.org/resource/Bush_family',\n",
       " 'Near Crawford, Texas, U.S.',\n",
       " 'Author:George Walker Bush',\n",
       " '1977-11-05',\n",
       " 'http://dbpedia.org/resource/Rick_Perry',\n",
       " '2000-12-21',\n",
       " '1995-01-17',\n",
       " '--09-20',\n",
       " 'speech',\n",
       " 'no',\n",
       " '',\n",
       " '220',\n",
       " 'no',\n",
       " 'GeorgeWBush Signature.svg',\n",
       " 'Harvard University',\n",
       " 'http://dbpedia.org/resource/Republican_Party_(United_States)',\n",
       " '1977-11-05',\n",
       " 'http://dbpedia.org/resource/Template:For_timeline',\n",
       " 'http://www.w3.org/2006/03/wn/wn20/instances/synset-incumbent-noun-1',\n",
       " 'http://dbpedia.org/resource/Bill_Clinton',\n",
       " 'http://dbpedia.org/resource/Rick_Perry']"
      ]
     },
     "execution_count": 11,
     "metadata": {},
     "output_type": "execute_result"
    }
   ],
   "source": [
    "# Print property values\n",
    "property_values"
   ]
  },
  {
   "cell_type": "code",
   "execution_count": 89,
   "id": "5ba468d9-1192-4559-bd4f-03fc0a4fb780",
   "metadata": {},
   "outputs": [
    {
     "name": "stdout",
     "output_type": "stream",
     "text": [
      "name\n",
      "birthPlace\n",
      "birthPlace\n",
      "birthDate\n",
      "wikiPageID\n",
      "wikiPageRevisionID\n",
      "wikiPageWikiLink\n",
      "wikiPageExternalLink\n",
      "serviceyears\n",
      "signatureAlt\n",
      "vicepresident\n",
      "thumbnail\n",
      "signature\n",
      "almaMater\n",
      "alt\n",
      "awards\n",
      "b\n",
      "birthDate\n",
      "birthName\n",
      "branch\n",
      "caption\n",
      "children\n",
      "date\n",
      "direction\n",
      "filename\n",
      "footer\n",
      "image\n",
      "nickname\n",
      "occupation\n",
      "office\n",
      "order\n",
      "parents\n",
      "party\n",
      "predecessor\n",
      "rank\n",
      "reason\n",
      "relatives\n",
      "residence\n",
      "s\n",
      "spouse\n",
      "successor\n",
      "termEnd\n",
      "termStart\n",
      "title\n",
      "type\n",
      "v\n",
      "website\n",
      "width\n",
      "wikt\n",
      "abstract\n",
      "lieutenant\n",
      "militaryService\n",
      "relation\n",
      "wikiPageLength\n",
      "birthName\n",
      "signature\n",
      "almaMater\n",
      "award\n",
      "child\n",
      "parent\n",
      "party\n",
      "residence\n",
      "soundRecording\n",
      "spouse\n",
      "termPeriod\n",
      "02\n",
      "01\n",
      "01\n",
      "01\n",
      "0.1\n",
      "0.1\n",
      "02\n",
      "0.1\n",
      "terms\n",
      "07\n",
      "wikiPageUsesTemplate\n",
      "gold\n",
      "\n",
      "wordnet_type\n",
      "prov#wasDerivedFrom\n",
      "0.1\n",
      "07\n",
      "wikiPageRedirects\n",
      "wikiPageDisambiguates\n",
      "submitter\n",
      "vetoedpresident\n",
      "nominator\n",
      "signedpresident\n",
      "authors\n",
      "governor\n",
      "namesake\n",
      "nominee\n",
      "presidentialNominee\n",
      "afterElection\n",
      "author\n",
      "before\n",
      "beforeElection\n",
      "cabinet\n",
      "candidate\n",
      "characters\n",
      "commander\n",
      "founder\n",
      "founders\n",
      "mainCharTeam\n",
      "opened\n",
      "owner\n",
      "owners\n",
      "participants\n",
      "president\n",
      "starring\n",
      "subject\n",
      "openedBy\n",
      "speakers\n",
      "1namedata\n",
      "altOfficeholder\n",
      "appointed\n",
      "appointer\n",
      "presidents\n",
      "relations\n",
      "appointer\n",
      "president\n",
      "author\n",
      "commander\n",
      "foundedBy\n",
      "governor\n",
      "illustrator\n",
      "knownFor\n",
      "nonFictionSubject\n",
      "predecessor\n",
      "relative\n",
      "starring\n",
      "successor\n",
      "0.1\n"
     ]
    }
   ],
   "source": [
    "# print the name of all queried properties\n",
    "\n",
    "for i in range(len(properties)):\n",
    "    try:\n",
    "        print(properties[i]['property']['value'].split('/')[4])\n",
    "    except:\n",
    "        print()"
   ]
  },
  {
   "cell_type": "code",
   "execution_count": null,
   "id": "04bff246-fe26-4ce5-8849-59d8dfa389db",
   "metadata": {},
   "outputs": [],
   "source": []
  }
 ],
 "metadata": {
  "kernelspec": {
   "display_name": "Python 3 (ipykernel)",
   "language": "python",
   "name": "python3"
  },
  "language_info": {
   "codemirror_mode": {
    "name": "ipython",
    "version": 3
   },
   "file_extension": ".py",
   "mimetype": "text/x-python",
   "name": "python",
   "nbconvert_exporter": "python",
   "pygments_lexer": "ipython3",
   "version": "3.8.8"
  }
 },
 "nbformat": 4,
 "nbformat_minor": 5
}
